{
 "cells": [
  {
   "cell_type": "markdown",
   "metadata": {},
   "source": [
    "# Import Boto3 SDK"
   ]
  },
  {
   "cell_type": "code",
   "execution_count": null,
   "metadata": {},
   "outputs": [],
   "source": [
    "# Simple example searching in one account/profile\n",
    "import boto3\n",
    "import csv\n",
    "import json\n",
    "client = boto3.client('resource-explorer-2')"
   ]
  },
  {
   "cell_type": "markdown",
   "metadata": {},
   "source": [
    "# Loop through Csv file based on profile, and search criteria"
   ]
  },
  {
   "cell_type": "code",
   "execution_count": null,
   "metadata": {},
   "outputs": [],
   "source": [
    "with open('data-inputs.csv', 'r') as csvfile:\n",
    "        datareader = csv.DictReader(csvfile)\n",
    "        for row in datareader:\n",
    "            response = client.search(\n",
    "                MaxResults=50,\n",
    "                # NextToken=,\n",
    "                QueryString=row['search']\n",
    "                # QueryString='tag.value:Google',\n",
    "                # ViewArn='string'\n",
    "            )\n",
    "            print(response)"
   ]
  },
  {
   "cell_type": "markdown",
   "metadata": {},
   "source": [
    "# Search All resources based on profile.\n",
    "* Define profile(s)\n",
    "* Update search criteria to loop through N of profiles, and return results"
   ]
  },
  {
   "cell_type": "code",
   "execution_count": null,
   "metadata": {},
   "outputs": [],
   "source": [
    "\n",
    "# SEARCH MULTIPLE ACCOUNTS BY TAG VALUE\n",
    "import boto3.session\n",
    "default = boto3.session.Session(profile_name='default')\n",
    "personal = boto3.session.Session(profile_name='personal')\n",
    "\n",
    "for session in [default, personal]:\n",
    "    #client = boto3.client('resource-explorer-2')\n",
    "    client = session.client('resource-explorer-2', region_name='us-east-1')\n",
    "    response = client.search(MaxResults=50, QueryString='tag.value:Twitter')\n",
    "    #for page in response:print(page)\n",
    "    print(response)"
   ]
  }
 ],
 "metadata": {
  "kernelspec": {
   "display_name": "Python 3.10.3 64-bit",
   "language": "python",
   "name": "python3"
  },
  "language_info": {
   "codemirror_mode": {
    "name": "ipython",
    "version": 3
   },
   "file_extension": ".py",
   "mimetype": "text/x-python",
   "name": "python",
   "nbconvert_exporter": "python",
   "pygments_lexer": "ipython3",
   "version": "3.10.3"
  },
  "orig_nbformat": 4,
  "vscode": {
   "interpreter": {
    "hash": "aee8b7b246df8f9039afb4144a1f6fd8d2ca17a180786b69acc140d282b71a49"
   }
  }
 },
 "nbformat": 4,
 "nbformat_minor": 2
}
