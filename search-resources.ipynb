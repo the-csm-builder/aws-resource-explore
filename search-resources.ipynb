{
 "cells": [
  {
   "cell_type": "markdown",
   "metadata": {},
   "source": [
    "# Import Boto3 SDK"
   ]
  },
  {
   "cell_type": "code",
   "execution_count": 8,
   "metadata": {},
   "outputs": [],
   "source": [
    "import boto3\n",
    "import csv\n",
    "import json\n",
    "\n",
    "session = boto3.Session(profile_name='default', region_name='us-east-1')\n",
    "# client = boto3.client('resource-explorer-2')\n",
    "client = session.client('resource-explorer-2')"
   ]
  },
  {
   "cell_type": "markdown",
   "metadata": {},
   "source": [
    "# Simple search"
   ]
  },
  {
   "cell_type": "code",
   "execution_count": null,
   "metadata": {},
   "outputs": [],
   "source": [
    "# SEARCH RESOURCES BY TAG VALUE\n",
    "\n",
    "response = client.search(\n",
    "    MaxResults=50,\n",
    "    # NextToken=,\n",
    "    QueryString='tag.value:Google',\n",
    "    # ViewArn='string'\n",
    ")\n",
    "\n",
    "print(response)"
   ]
  },
  {
   "cell_type": "markdown",
   "metadata": {},
   "source": [
    "# Loop through Csv file based on profile, and search criteria"
   ]
  },
  {
   "cell_type": "code",
   "execution_count": null,
   "metadata": {},
   "outputs": [],
   "source": [
    "with open('data-inputs.csv', 'r') as csvfile:\n",
    "        datareader = csv.DictReader(csvfile)\n",
    "        for row in datareader:\n",
    "            response = client.search(\n",
    "                MaxResults=50,\n",
    "                # NextToken=,\n",
    "                QueryString=row['search']\n",
    "                # QueryString='tag.value:Google',\n",
    "                # ViewArn='string'\n",
    "            )\n",
    "            print(response)\n",
    "\n",
    "#print(response)"
   ]
  }
 ],
 "metadata": {
  "kernelspec": {
   "display_name": "Python 3.10.3 64-bit",
   "language": "python",
   "name": "python3"
  },
  "language_info": {
   "codemirror_mode": {
    "name": "ipython",
    "version": 3
   },
   "file_extension": ".py",
   "mimetype": "text/x-python",
   "name": "python",
   "nbconvert_exporter": "python",
   "pygments_lexer": "ipython3",
   "version": "3.10.3"
  },
  "orig_nbformat": 4,
  "vscode": {
   "interpreter": {
    "hash": "aee8b7b246df8f9039afb4144a1f6fd8d2ca17a180786b69acc140d282b71a49"
   }
  }
 },
 "nbformat": 4,
 "nbformat_minor": 2
}
